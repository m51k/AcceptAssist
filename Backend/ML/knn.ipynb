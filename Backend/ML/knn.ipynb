{
 "cells": [
  {
   "cell_type": "code",
   "execution_count": 15,
   "metadata": {
    "collapsed": true
   },
   "outputs": [
    {
     "data": {
      "text/plain": "array([0.638])"
     },
     "execution_count": 15,
     "metadata": {},
     "output_type": "execute_result"
    }
   ],
   "source": [
    "import pandas as pd\n",
    "from sklearn.neighbors import KNeighborsRegressor\n",
    "\n",
    "dataset = ('admit.csv')\n",
    "admitData = pd.read_csv(dataset)\n",
    "data = admitData.drop(columns=['Chance of Admit ', 'Serial No.'])\n",
    "target = admitData['Chance of Admit ']\n",
    "\n",
    "model = KNeighborsRegressor()\n",
    "model.fit(data.values, target)\n",
    "\n",
    "#test prediction\n",
    "prediction = model.predict([[301, 100, 5, 3.5, 3.0, 7.80, 0]])\n",
    "prediction"
   ]
  },
  {
   "cell_type": "code",
   "execution_count": null,
   "outputs": [],
   "source": [],
   "metadata": {
    "collapsed": false
   }
  }
 ],
 "metadata": {
  "kernelspec": {
   "display_name": "Python 3",
   "language": "python",
   "name": "python3"
  },
  "language_info": {
   "codemirror_mode": {
    "name": "ipython",
    "version": 2
   },
   "file_extension": ".py",
   "mimetype": "text/x-python",
   "name": "python",
   "nbconvert_exporter": "python",
   "pygments_lexer": "ipython2",
   "version": "2.7.6"
  }
 },
 "nbformat": 4,
 "nbformat_minor": 0
}
