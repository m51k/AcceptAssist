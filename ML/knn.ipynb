{
 "cells": [
  {
   "cell_type": "code",
   "execution_count": 1,
   "metadata": {
    "collapsed": true
   },
   "outputs": [
    {
     "data": {
      "text/html": [
       "<div>\n",
       "<style scoped>\n",
       "    .dataframe tbody tr th:only-of-type {\n",
       "        vertical-align: middle;\n",
       "    }\n",
       "\n",
       "    .dataframe tbody tr th {\n",
       "        vertical-align: top;\n",
       "    }\n",
       "\n",
       "    .dataframe thead th {\n",
       "        text-align: right;\n",
       "    }\n",
       "</style>\n",
       "<table border=\"1\" class=\"dataframe\">\n",
       "  <thead>\n",
       "    <tr style=\"text-align: right;\">\n",
       "      <th></th>\n",
       "      <th>Serial No.</th>\n",
       "      <th>GRE Score</th>\n",
       "      <th>TOEFL Score</th>\n",
       "      <th>University Rating</th>\n",
       "      <th>SOP</th>\n",
       "      <th>LOR</th>\n",
       "      <th>CGPA</th>\n",
       "      <th>Research</th>\n",
       "      <th>Chance of Admit</th>\n",
       "    </tr>\n",
       "  </thead>\n",
       "  <tbody>\n",
       "    <tr>\n",
       "      <th>0</th>\n",
       "      <td>1</td>\n",
       "      <td>337</td>\n",
       "      <td>118</td>\n",
       "      <td>4</td>\n",
       "      <td>4.5</td>\n",
       "      <td>4.5</td>\n",
       "      <td>9.65</td>\n",
       "      <td>1</td>\n",
       "      <td>0.92</td>\n",
       "    </tr>\n",
       "    <tr>\n",
       "      <th>1</th>\n",
       "      <td>2</td>\n",
       "      <td>324</td>\n",
       "      <td>107</td>\n",
       "      <td>4</td>\n",
       "      <td>4.0</td>\n",
       "      <td>4.5</td>\n",
       "      <td>8.87</td>\n",
       "      <td>1</td>\n",
       "      <td>0.76</td>\n",
       "    </tr>\n",
       "    <tr>\n",
       "      <th>2</th>\n",
       "      <td>3</td>\n",
       "      <td>316</td>\n",
       "      <td>104</td>\n",
       "      <td>3</td>\n",
       "      <td>3.0</td>\n",
       "      <td>3.5</td>\n",
       "      <td>8.00</td>\n",
       "      <td>1</td>\n",
       "      <td>0.72</td>\n",
       "    </tr>\n",
       "    <tr>\n",
       "      <th>3</th>\n",
       "      <td>4</td>\n",
       "      <td>322</td>\n",
       "      <td>110</td>\n",
       "      <td>3</td>\n",
       "      <td>3.5</td>\n",
       "      <td>2.5</td>\n",
       "      <td>8.67</td>\n",
       "      <td>1</td>\n",
       "      <td>0.80</td>\n",
       "    </tr>\n",
       "    <tr>\n",
       "      <th>4</th>\n",
       "      <td>5</td>\n",
       "      <td>314</td>\n",
       "      <td>103</td>\n",
       "      <td>2</td>\n",
       "      <td>2.0</td>\n",
       "      <td>3.0</td>\n",
       "      <td>8.21</td>\n",
       "      <td>0</td>\n",
       "      <td>0.65</td>\n",
       "    </tr>\n",
       "    <tr>\n",
       "      <th>...</th>\n",
       "      <td>...</td>\n",
       "      <td>...</td>\n",
       "      <td>...</td>\n",
       "      <td>...</td>\n",
       "      <td>...</td>\n",
       "      <td>...</td>\n",
       "      <td>...</td>\n",
       "      <td>...</td>\n",
       "      <td>...</td>\n",
       "    </tr>\n",
       "    <tr>\n",
       "      <th>395</th>\n",
       "      <td>396</td>\n",
       "      <td>324</td>\n",
       "      <td>110</td>\n",
       "      <td>3</td>\n",
       "      <td>3.5</td>\n",
       "      <td>3.5</td>\n",
       "      <td>9.04</td>\n",
       "      <td>1</td>\n",
       "      <td>0.82</td>\n",
       "    </tr>\n",
       "    <tr>\n",
       "      <th>396</th>\n",
       "      <td>397</td>\n",
       "      <td>325</td>\n",
       "      <td>107</td>\n",
       "      <td>3</td>\n",
       "      <td>3.0</td>\n",
       "      <td>3.5</td>\n",
       "      <td>9.11</td>\n",
       "      <td>1</td>\n",
       "      <td>0.84</td>\n",
       "    </tr>\n",
       "    <tr>\n",
       "      <th>397</th>\n",
       "      <td>398</td>\n",
       "      <td>330</td>\n",
       "      <td>116</td>\n",
       "      <td>4</td>\n",
       "      <td>5.0</td>\n",
       "      <td>4.5</td>\n",
       "      <td>9.45</td>\n",
       "      <td>1</td>\n",
       "      <td>0.91</td>\n",
       "    </tr>\n",
       "    <tr>\n",
       "      <th>398</th>\n",
       "      <td>399</td>\n",
       "      <td>312</td>\n",
       "      <td>103</td>\n",
       "      <td>3</td>\n",
       "      <td>3.5</td>\n",
       "      <td>4.0</td>\n",
       "      <td>8.78</td>\n",
       "      <td>0</td>\n",
       "      <td>0.67</td>\n",
       "    </tr>\n",
       "    <tr>\n",
       "      <th>399</th>\n",
       "      <td>400</td>\n",
       "      <td>333</td>\n",
       "      <td>117</td>\n",
       "      <td>4</td>\n",
       "      <td>5.0</td>\n",
       "      <td>4.0</td>\n",
       "      <td>9.66</td>\n",
       "      <td>1</td>\n",
       "      <td>0.95</td>\n",
       "    </tr>\n",
       "  </tbody>\n",
       "</table>\n",
       "<p>400 rows × 9 columns</p>\n",
       "</div>"
      ],
      "text/plain": [
       "     Serial No.  GRE Score  TOEFL Score  University Rating  SOP  LOR   CGPA  \\\n",
       "0             1        337          118                  4  4.5   4.5  9.65   \n",
       "1             2        324          107                  4  4.0   4.5  8.87   \n",
       "2             3        316          104                  3  3.0   3.5  8.00   \n",
       "3             4        322          110                  3  3.5   2.5  8.67   \n",
       "4             5        314          103                  2  2.0   3.0  8.21   \n",
       "..          ...        ...          ...                ...  ...   ...   ...   \n",
       "395         396        324          110                  3  3.5   3.5  9.04   \n",
       "396         397        325          107                  3  3.0   3.5  9.11   \n",
       "397         398        330          116                  4  5.0   4.5  9.45   \n",
       "398         399        312          103                  3  3.5   4.0  8.78   \n",
       "399         400        333          117                  4  5.0   4.0  9.66   \n",
       "\n",
       "     Research  Chance of Admit   \n",
       "0           1              0.92  \n",
       "1           1              0.76  \n",
       "2           1              0.72  \n",
       "3           1              0.80  \n",
       "4           0              0.65  \n",
       "..        ...               ...  \n",
       "395         1              0.82  \n",
       "396         1              0.84  \n",
       "397         1              0.91  \n",
       "398         0              0.67  \n",
       "399         1              0.95  \n",
       "\n",
       "[400 rows x 9 columns]"
      ]
     },
     "execution_count": 1,
     "metadata": {},
     "output_type": "execute_result"
    }
   ],
   "source": [
    "import pandas as pd\n",
    "import numpy as np\n",
    "from sklearn.metrics import r2_score\n",
    "from sklearn.metrics import mean_squared_error\n",
    "from sklearn.model_selection import train_test_split\n",
    "from sklearn.neighbors import KNeighborsRegressor\n",
    "import matplotlib.pyplot as plt\n",
    "from sklearn.metrics import mean_squared_error\n",
    "from sklearn.metrics import mean_absolute_error\n",
    "\n",
    "dataset = 'admit.csv'\n",
    "admitData = pd.read_csv(dataset)\n",
    "\n",
    "X = admitData.iloc[:, 1:7] # select columns 1-7 with all rows\n",
    "y = admitData.iloc[:, 8] # select 8th column\n",
    "\n",
    "\n",
    "# test data\n",
    "admitData"
   ]
  },
  {
   "cell_type": "code",
   "execution_count": 2,
   "metadata": {
    "collapsed": false
   },
   "outputs": [
    {
     "data": {
      "text/plain": [
       "array([0.63333333, 0.85666667, 0.93      , 0.71      , 0.59666667,\n",
       "       0.81333333, 0.88333333, 0.77333333, 0.69      , 0.83      ,\n",
       "       0.66666667, 0.63333333, 0.68666667, 0.59666667, 0.67666667,\n",
       "       0.68      , 0.45333333, 0.51666667, 0.49666667, 0.74      ,\n",
       "       0.93666667, 0.8       , 0.85      , 0.68      , 0.51333333,\n",
       "       0.70666667, 0.94      , 0.65666667, 0.73666667, 0.71666667,\n",
       "       0.75      , 0.74666667, 0.62      , 0.6       , 0.65666667,\n",
       "       0.8       , 0.63333333, 0.69      , 0.85666667, 0.71666667,\n",
       "       0.93      , 0.77333333, 0.62333333, 0.77333333, 0.62666667,\n",
       "       0.66666667, 0.95333333, 0.86      , 0.50333333, 0.62333333,\n",
       "       0.77333333, 0.87      , 0.50333333, 0.93      , 0.84      ,\n",
       "       0.88333333, 0.86      , 0.74666667, 0.69666667, 0.74666667,\n",
       "       0.92333333, 0.93666667, 0.50333333, 0.74666667, 0.62333333,\n",
       "       0.83666667, 0.74      , 0.74666667, 0.65666667, 0.59666667,\n",
       "       0.93      , 0.80666667, 0.63333333, 0.67666667, 0.63666667,\n",
       "       0.71666667, 0.74666667, 0.92333333, 0.61333333, 0.50333333,\n",
       "       0.66      , 0.95333333, 0.91666667, 0.67666667, 0.61      ,\n",
       "       0.64      , 0.78333333, 0.64333333, 0.78666667, 0.64333333,\n",
       "       0.81666667, 0.76      , 0.95333333, 0.59      , 0.88      ,\n",
       "       0.69666667, 0.8       , 0.72333333, 0.86      , 0.74666667,\n",
       "       0.84333333, 0.92333333, 0.77      , 0.84666667, 0.85333333,\n",
       "       0.88      , 0.95333333, 0.64      , 0.63333333, 0.74666667,\n",
       "       0.71666667, 0.62333333, 0.56666667, 0.65      , 0.64      ,\n",
       "       0.94      , 0.69333333, 0.81333333, 0.88666667, 0.6       ,\n",
       "       0.7       , 0.58666667, 0.81666667, 0.81666667, 0.72666667,\n",
       "       0.66      , 0.66666667, 0.85333333, 0.62333333, 0.68      ,\n",
       "       0.77      , 0.61333333, 0.68      , 0.95333333, 0.87      ,\n",
       "       0.93      , 0.83      , 0.65666667, 0.81333333, 0.75      ,\n",
       "       0.7       , 0.7       , 0.68333333, 0.65333333, 0.84      ,\n",
       "       0.60333333, 0.49666667, 0.94      , 0.74666667, 0.91666667,\n",
       "       0.95333333, 0.50333333, 0.74666667, 0.79666667, 0.64333333,\n",
       "       0.72333333, 0.95333333, 0.95333333, 0.61      , 0.66666667,\n",
       "       0.58666667, 0.58666667, 0.94      , 0.51666667, 0.73666667,\n",
       "       0.77333333, 0.81333333, 0.72666667, 0.72666667, 0.58666667,\n",
       "       0.93      , 0.72333333, 0.78333333, 0.79333333, 0.64333333,\n",
       "       0.50333333, 0.77333333, 0.63333333, 0.86333333, 0.58333333,\n",
       "       0.63333333, 0.63333333, 0.49666667, 0.66666667, 0.87666667,\n",
       "       0.87      , 0.6       , 0.72333333, 0.64333333, 0.77333333,\n",
       "       0.81333333, 0.81666667, 0.63333333, 0.81666667, 0.87666667,\n",
       "       0.80666667, 0.91666667, 0.62333333, 0.86      , 0.71666667,\n",
       "       0.79666667, 0.81666667, 0.9       , 0.84      , 0.91666667,\n",
       "       0.63333333, 0.74      , 0.81      , 0.66666667, 0.61333333,\n",
       "       0.86      , 0.68333333, 0.58333333, 0.65      , 0.50333333,\n",
       "       0.60333333, 0.66      , 0.59      , 0.45333333, 0.81666667,\n",
       "       0.88      , 0.81666667, 0.95333333, 0.68333333, 0.72333333,\n",
       "       0.77333333, 0.72666667, 0.81666667, 0.67      , 0.72333333,\n",
       "       0.93666667, 0.63333333, 0.70666667, 0.79666667, 0.80333333,\n",
       "       0.65      , 0.67      , 0.81666667, 0.74666667, 0.64333333,\n",
       "       0.84666667, 0.63333333, 0.69666667, 0.73      , 0.79333333,\n",
       "       0.81333333, 0.7       , 0.6       , 0.51666667, 0.88666667,\n",
       "       0.50333333, 0.65666667, 0.85666667, 0.51666667, 0.90666667,\n",
       "       0.59      , 0.66333333, 0.60666667, 0.7       , 0.66      ,\n",
       "       0.61666667, 0.7       , 0.53333333, 0.94666667, 0.81333333,\n",
       "       0.50333333, 0.66      , 0.68333333, 0.45333333, 0.62666667,\n",
       "       0.62333333, 0.80333333, 0.50333333, 0.66666667, 0.66      ,\n",
       "       0.93666667, 0.51333333, 0.71666667, 0.80333333, 0.87      ,\n",
       "       0.73666667, 0.87      , 0.88      , 0.83      , 0.89333333,\n",
       "       0.61      , 0.70666667, 0.95333333, 0.85666667, 0.6       ,\n",
       "       0.77      , 0.63333333, 0.63333333, 0.6       , 0.78333333,\n",
       "       0.74666667, 0.6       , 0.68      , 0.45333333, 0.65666667,\n",
       "       0.74666667, 0.63666667, 0.67333333, 0.69666667, 0.87      ,\n",
       "       0.63666667, 0.65666667, 0.87      , 0.95333333, 0.77333333,\n",
       "       0.63333333, 0.67      , 0.63333333, 0.68666667, 0.88      ,\n",
       "       0.72333333, 0.86      , 0.63666667, 0.81333333, 0.68666667])"
      ]
     },
     "execution_count": 2,
     "metadata": {},
     "output_type": "execute_result"
    }
   ],
   "source": [
    "X_train, X_test, y_train, y_test = train_test_split(X, y, test_size=0.8, random_state=7)\n",
    "\n",
    "model = KNeighborsRegressor(n_neighbors=3)\n",
    "model.fit(X_train, y_train)\n",
    "\n",
    "# test prediction\n",
    "prediction = model.predict(X_test)\n",
    "prediction"
   ]
  },
  {
   "cell_type": "code",
   "execution_count": 3,
   "metadata": {
    "collapsed": false
   },
   "outputs": [
    {
     "ename": "NameError",
     "evalue": "name 'r2' is not defined",
     "output_type": "error",
     "traceback": [
      "\u001b[1;31m---------------------------------------------------------------------------\u001b[0m",
      "\u001b[1;31mNameError\u001b[0m                                 Traceback (most recent call last)",
      "Cell \u001b[1;32mIn[3], line 7\u001b[0m\n\u001b[0;32m      5\u001b[0m plt\u001b[39m.\u001b[39mylabel(\u001b[39m'\u001b[39m\u001b[39mPredicted Values\u001b[39m\u001b[39m'\u001b[39m)\n\u001b[0;32m      6\u001b[0m plt\u001b[39m.\u001b[39mplot(y_test, a\u001b[39m*\u001b[39my_test\u001b[39m+\u001b[39mb)\n\u001b[1;32m----> 7\u001b[0m plt\u001b[39m.\u001b[39mtext(\u001b[39m0.32\u001b[39m, \u001b[39m0.95\u001b[39m, \u001b[39m'\u001b[39m\u001b[39mR-square =\u001b[39m\u001b[39m'\u001b[39m \u001b[39m+\u001b[39m \u001b[39mstr\u001b[39m(r2))\n\u001b[0;32m      9\u001b[0m plt\u001b[39m.\u001b[39mshow()\n",
      "\u001b[1;31mNameError\u001b[0m: name 'r2' is not defined"
     ]
    },
    {
     "data": {
      "image/png": "[encoded data removed]",
      "text/plain": [
       "<Figure size 640x480 with 1 Axes>"
      ]
     },
     "metadata": {},
     "output_type": "display_data"
    }
   ],
   "source": [
    "a, b = np.polyfit(y_test, prediction, 1)\n",
    "\n",
    "plt.scatter(y_test, prediction)\n",
    "plt.xlabel('True Values')\n",
    "plt.ylabel('Predicted Values')\n",
    "plt.plot(y_test, a*y_test+b)\n",
    "plt.text(0.32, 0.95, 'R-square =' + str(r2))\n",
    "\n",
    "plt.show()"
   ]
  },
  {
   "cell_type": "code",
   "execution_count": null,
   "metadata": {},
   "outputs": [
    {
     "name": "stdout",
     "output_type": "stream",
     "text": [
      "Accuracy: 0.6240878764503056\n"
     ]
    }
   ],
   "source": [
    "# calculate R-squared\n",
    "r2 = r2_score(y_test, prediction)\n",
    "print(\"Accuracy:\", r2)"
   ]
  },
  {
   "cell_type": "code",
   "execution_count": null,
   "metadata": {},
   "outputs": [
    {
     "name": "stdout",
     "output_type": "stream",
     "text": [
      "MSE: 0.007575069444444443\n"
     ]
    }
   ],
   "source": [
    "# predict Mean squared error (MSE)\n",
    "mse = mean_squared_error(y_test, prediction)\n",
    "print(\"MSE:\", mse)"
   ]
  },
  {
   "cell_type": "code",
   "execution_count": null,
   "metadata": {},
   "outputs": [
    {
     "name": "stdout",
     "output_type": "stream",
     "text": [
      "MAE: 0.06422916666666667\n"
     ]
    }
   ],
   "source": [
    "# predict Mean absolute error (MAE)\n",
    "mae = mean_absolute_error(y_test, prediction)\n",
    "print(\"MAE:\", mae)"
   ]
  },
  {
   "cell_type": "code",
   "execution_count": null,
   "metadata": {},
   "outputs": [
    {
     "name": "stdout",
     "output_type": "stream",
     "text": [
      "RMSE: 0.08703487487464116\n"
     ]
    }
   ],
   "source": [
    "# predict Root mean squared error (RMSE)\n",
    "rmse = mean_squared_error(y_test, prediction, squared=False)\n",
    "print(\"RMSE:\", rmse)"
   ]
  },
  {
   "cell_type": "code",
   "execution_count": null,
   "metadata": {},
   "outputs": [
    {
     "name": "stdout",
     "output_type": "stream",
     "text": [
      "precision_at_k=5:  0.836\n"
     ]
    }
   ],
   "source": [
    "# function for precision at k\n",
    "def precision_at_k(y_test, y_pred, k):\n",
    "\n",
    "    # sort the prediction values by probability in descending order\n",
    "    sorted_pred_values = np.argsort(y_pred)[::-1] \n",
    "\n",
    "    # select the top k sorted prediction values\n",
    "    top_k_sorted_pred_values = sorted_pred_values[:k]\n",
    "\n",
    "    # precision at k\n",
    "    true_positives = np.sum(y_test[top_k_sorted_pred_values])\n",
    "    precision_at_k = true_positives / k\n",
    "\n",
    "    return precision_at_k\n",
    "\n",
    "# precision at k=5\n",
    "precision_at_5 = precision_at_k(y_test, prediction, k=5)\n",
    "print(\"precision_at_k=5: \", precision_at_5)"
   ]
  },
  {
   "cell_type": "markdown",
   "metadata": {
    "collapsed": false
   },
   "source": []
  }
 ],
 "metadata": {
  "kernelspec": {
   "display_name": "Python 3",
   "language": "python",
   "name": "python3"
  },
  "language_info": {
   "codemirror_mode": {
    "name": "ipython",
    "version": 3
   },
   "file_extension": ".py",
   "mimetype": "text/x-python",
   "name": "python",
   "nbconvert_exporter": "python",
   "pygments_lexer": "ipython3",
   "version": "3.11.1"
  },
  "vscode": {
   "interpreter": {
    "hash": "4d3da59dee3be998699a8c473df7cc78bbb0392662fb6e773a877b0164557650"
   }
  }
 },
 "nbformat": 4,
 "nbformat_minor": 0
}
