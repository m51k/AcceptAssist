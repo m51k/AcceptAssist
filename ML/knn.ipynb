{
 "cells": [
  {
   "cell_type": "code",
   "execution_count": 16,
   "metadata": {
    "collapsed": true
   },
   "outputs": [
    {
     "data": {
      "text/plain": "     Serial No.  GRE Score  TOEFL Score  University Rating  SOP  LOR   CGPA  \\\n0             1        337          118                  4  4.5   4.5  9.65   \n1             2        324          107                  4  4.0   4.5  8.87   \n2             3        316          104                  3  3.0   3.5  8.00   \n3             4        322          110                  3  3.5   2.5  8.67   \n4             5        314          103                  2  2.0   3.0  8.21   \n..          ...        ...          ...                ...  ...   ...   ...   \n395         396        324          110                  3  3.5   3.5  9.04   \n396         397        325          107                  3  3.0   3.5  9.11   \n397         398        330          116                  4  5.0   4.5  9.45   \n398         399        312          103                  3  3.5   4.0  8.78   \n399         400        333          117                  4  5.0   4.0  9.66   \n\n     Research  Chance of Admit   \n0           1              0.92  \n1           1              0.76  \n2           1              0.72  \n3           1              0.80  \n4           0              0.65  \n..        ...               ...  \n395         1              0.82  \n396         1              0.84  \n397         1              0.91  \n398         0              0.67  \n399         1              0.95  \n\n[400 rows x 9 columns]",
      "text/html": "<div>\n<style scoped>\n    .dataframe tbody tr th:only-of-type {\n        vertical-align: middle;\n    }\n\n    .dataframe tbody tr th {\n        vertical-align: top;\n    }\n\n    .dataframe thead th {\n        text-align: right;\n    }\n</style>\n<table border=\"1\" class=\"dataframe\">\n  <thead>\n    <tr style=\"text-align: right;\">\n      <th></th>\n      <th>Serial No.</th>\n      <th>GRE Score</th>\n      <th>TOEFL Score</th>\n      <th>University Rating</th>\n      <th>SOP</th>\n      <th>LOR</th>\n      <th>CGPA</th>\n      <th>Research</th>\n      <th>Chance of Admit</th>\n    </tr>\n  </thead>\n  <tbody>\n    <tr>\n      <th>0</th>\n      <td>1</td>\n      <td>337</td>\n      <td>118</td>\n      <td>4</td>\n      <td>4.5</td>\n      <td>4.5</td>\n      <td>9.65</td>\n      <td>1</td>\n      <td>0.92</td>\n    </tr>\n    <tr>\n      <th>1</th>\n      <td>2</td>\n      <td>324</td>\n      <td>107</td>\n      <td>4</td>\n      <td>4.0</td>\n      <td>4.5</td>\n      <td>8.87</td>\n      <td>1</td>\n      <td>0.76</td>\n    </tr>\n    <tr>\n      <th>2</th>\n      <td>3</td>\n      <td>316</td>\n      <td>104</td>\n      <td>3</td>\n      <td>3.0</td>\n      <td>3.5</td>\n      <td>8.00</td>\n      <td>1</td>\n      <td>0.72</td>\n    </tr>\n    <tr>\n      <th>3</th>\n      <td>4</td>\n      <td>322</td>\n      <td>110</td>\n      <td>3</td>\n      <td>3.5</td>\n      <td>2.5</td>\n      <td>8.67</td>\n      <td>1</td>\n      <td>0.80</td>\n    </tr>\n    <tr>\n      <th>4</th>\n      <td>5</td>\n      <td>314</td>\n      <td>103</td>\n      <td>2</td>\n      <td>2.0</td>\n      <td>3.0</td>\n      <td>8.21</td>\n      <td>0</td>\n      <td>0.65</td>\n    </tr>\n    <tr>\n      <th>...</th>\n      <td>...</td>\n      <td>...</td>\n      <td>...</td>\n      <td>...</td>\n      <td>...</td>\n      <td>...</td>\n      <td>...</td>\n      <td>...</td>\n      <td>...</td>\n    </tr>\n    <tr>\n      <th>395</th>\n      <td>396</td>\n      <td>324</td>\n      <td>110</td>\n      <td>3</td>\n      <td>3.5</td>\n      <td>3.5</td>\n      <td>9.04</td>\n      <td>1</td>\n      <td>0.82</td>\n    </tr>\n    <tr>\n      <th>396</th>\n      <td>397</td>\n      <td>325</td>\n      <td>107</td>\n      <td>3</td>\n      <td>3.0</td>\n      <td>3.5</td>\n      <td>9.11</td>\n      <td>1</td>\n      <td>0.84</td>\n    </tr>\n    <tr>\n      <th>397</th>\n      <td>398</td>\n      <td>330</td>\n      <td>116</td>\n      <td>4</td>\n      <td>5.0</td>\n      <td>4.5</td>\n      <td>9.45</td>\n      <td>1</td>\n      <td>0.91</td>\n    </tr>\n    <tr>\n      <th>398</th>\n      <td>399</td>\n      <td>312</td>\n      <td>103</td>\n      <td>3</td>\n      <td>3.5</td>\n      <td>4.0</td>\n      <td>8.78</td>\n      <td>0</td>\n      <td>0.67</td>\n    </tr>\n    <tr>\n      <th>399</th>\n      <td>400</td>\n      <td>333</td>\n      <td>117</td>\n      <td>4</td>\n      <td>5.0</td>\n      <td>4.0</td>\n      <td>9.66</td>\n      <td>1</td>\n      <td>0.95</td>\n    </tr>\n  </tbody>\n</table>\n<p>400 rows × 9 columns</p>\n</div>"
     },
     "execution_count": 16,
     "metadata": {},
     "output_type": "execute_result"
    }
   ],
   "source": [
    "import pandas as pd\n",
    "\n",
    "from sklearn.metrics import r2_score\n",
    "from sklearn.metrics import mean_squared_error\n",
    "from sklearn.model_selection import train_test_split\n",
    "from sklearn.neighbors import KNeighborsRegressor\n",
    "\n",
    "dataset = 'admit.csv'\n",
    "admitData = pd.read_csv(dataset)\n",
    "\n",
    "X = admitData.iloc[:, 1:7] # select columns 1-7 with all rows\n",
    "y = admitData.iloc[:, 8] # select 8th column\n",
    "\n",
    "\n",
    "# test data\n",
    "admitData"
   ]
  },
  {
   "cell_type": "code",
   "execution_count": 17,
   "outputs": [
    {
     "data": {
      "text/plain": "array([0.658, 0.84 , 0.94 , 0.726, 0.616, 0.824, 0.882, 0.808, 0.672,\n       0.834, 0.652, 0.632, 0.714, 0.616, 0.672, 0.652, 0.512, 0.512,\n       0.478, 0.704, 0.928, 0.83 , 0.828, 0.692, 0.54 , 0.65 , 0.93 ,\n       0.69 , 0.67 , 0.766, 0.808, 0.706, 0.666, 0.598, 0.64 , 0.824,\n       0.652, 0.7  , 0.868, 0.714, 0.934, 0.77 , 0.632, 0.77 , 0.656,\n       0.658, 0.94 , 0.872, 0.486, 0.632, 0.796, 0.866, 0.538, 0.934,\n       0.766, 0.876, 0.848, 0.71 , 0.672, 0.684, 0.916, 0.928, 0.486,\n       0.684, 0.658, 0.824, 0.704, 0.692, 0.698, 0.594, 0.94 , 0.806,\n       0.652, 0.71 , 0.624, 0.714, 0.706, 0.93 , 0.67 , 0.464, 0.67 ,\n       0.94 , 0.916, 0.632, 0.668, 0.626, 0.83 , 0.624, 0.816, 0.624,\n       0.814, 0.758, 0.94 , 0.55 , 0.834, 0.676, 0.792, 0.742, 0.858,\n       0.684, 0.84 , 0.916, 0.726, 0.858, 0.868, 0.884, 0.94 , 0.656,\n       0.67 , 0.706, 0.694, 0.628, 0.598, 0.632, 0.618, 0.93 , 0.71 ,\n       0.82 , 0.868, 0.618, 0.67 , 0.538, 0.85 , 0.82 , 0.734, 0.654,\n       0.714, 0.834, 0.67 , 0.67 , 0.718, 0.672, 0.702, 0.94 , 0.858,\n       0.934, 0.834, 0.698, 0.786, 0.758, 0.714, 0.71 , 0.698, 0.68 ,\n       0.81 , 0.602, 0.538, 0.93 , 0.684, 0.916, 0.918, 0.486, 0.676,\n       0.77 , 0.618, 0.708, 0.906, 0.94 , 0.606, 0.67 , 0.534, 0.584,\n       0.93 , 0.512, 0.67 , 0.77 , 0.856, 0.656, 0.708, 0.538, 0.93 ,\n       0.696, 0.83 , 0.808, 0.648, 0.486, 0.808, 0.646, 0.83 , 0.62 ,\n       0.65 , 0.656, 0.54 , 0.73 , 0.862, 0.822, 0.588, 0.708, 0.652,\n       0.798, 0.824, 0.798, 0.62 , 0.832, 0.868, 0.77 , 0.916, 0.61 ,\n       0.848, 0.714, 0.828, 0.832, 0.878, 0.85 , 0.916, 0.638, 0.77 ,\n       0.84 , 0.726, 0.642, 0.838, 0.682, 0.612, 0.624, 0.512, 0.618,\n       0.704, 0.54 , 0.494, 0.814, 0.852, 0.82 , 0.94 , 0.698, 0.724,\n       0.82 , 0.656, 0.82 , 0.738, 0.776, 0.94 , 0.638, 0.674, 0.848,\n       0.8  , 0.624, 0.732, 0.814, 0.692, 0.618, 0.83 , 0.618, 0.67 ,\n       0.72 , 0.82 , 0.814, 0.71 , 0.544, 0.464, 0.858, 0.512, 0.708,\n       0.868, 0.49 , 0.916, 0.534, 0.67 , 0.66 , 0.706, 0.654, 0.672,\n       0.684, 0.502, 0.94 , 0.82 , 0.486, 0.656, 0.698, 0.512, 0.656,\n       0.658, 0.842, 0.486, 0.73 , 0.654, 0.94 , 0.538, 0.714, 0.824,\n       0.848, 0.67 , 0.868, 0.824, 0.834, 0.864, 0.668, 0.674, 0.9  ,\n       0.85 , 0.61 , 0.71 , 0.652, 0.652, 0.618, 0.794, 0.676, 0.618,\n       0.67 , 0.486, 0.698, 0.732, 0.628, 0.678, 0.7  , 0.872, 0.634,\n       0.674, 0.828, 0.94 , 0.796, 0.652, 0.682, 0.648, 0.684, 0.852,\n       0.708, 0.848, 0.598, 0.856, 0.682])"
     },
     "execution_count": 17,
     "metadata": {},
     "output_type": "execute_result"
    }
   ],
   "source": [
    "X_train, X_test, y_train, y_test = train_test_split(X, y, test_size=0.8, random_state=7)\n",
    "\n",
    "model = KNeighborsRegressor(n_neighbors=5)\n",
    "model.fit(X_train, y_train)\n",
    "\n",
    "# test prediction\n",
    "prediction = model.predict(X_test)\n",
    "prediction"
   ],
   "metadata": {
    "collapsed": false
   }
  },
  {
   "cell_type": "code",
   "execution_count": 18,
   "outputs": [
    {
     "name": "stdout",
     "output_type": "stream",
     "text": [
      "0.6608336044368545\n",
      "0.006834599999999999\n"
     ]
    }
   ],
   "source": [
    "print(r2_score(y_test, prediction))\n",
    "print(mean_squared_error(y_test, prediction, squared=False))"
   ],
   "metadata": {
    "collapsed": false
   }
  },
  {
   "cell_type": "markdown",
   "source": [],
   "metadata": {
    "collapsed": false
   }
  }
 ],
 "metadata": {
  "kernelspec": {
   "display_name": "Python 3",
   "language": "python",
   "name": "python3"
  },
  "language_info": {
   "codemirror_mode": {
    "name": "ipython",
    "version": 2
   },
   "file_extension": ".py",
   "mimetype": "text/x-python",
   "name": "python",
   "nbconvert_exporter": "python",
   "pygments_lexer": "ipython2",
   "version": "2.7.6"
  }
 },
 "nbformat": 4,
 "nbformat_minor": 0
}
